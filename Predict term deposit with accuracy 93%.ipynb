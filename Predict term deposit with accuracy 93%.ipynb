{
 "cells": [
  {
   "cell_type": "code",
   "execution_count": 6,
   "metadata": {},
   "outputs": [],
   "source": [
    "import pandas as pd \n",
    "import numpy as np "
   ]
  },
  {
   "cell_type": "code",
   "execution_count": 7,
   "metadata": {},
   "outputs": [
    {
     "data": {
      "text/html": [
       "<div>\n",
       "<style scoped>\n",
       "    .dataframe tbody tr th:only-of-type {\n",
       "        vertical-align: middle;\n",
       "    }\n",
       "\n",
       "    .dataframe tbody tr th {\n",
       "        vertical-align: top;\n",
       "    }\n",
       "\n",
       "    .dataframe thead th {\n",
       "        text-align: right;\n",
       "    }\n",
       "</style>\n",
       "<table border=\"1\" class=\"dataframe\">\n",
       "  <thead>\n",
       "    <tr style=\"text-align: right;\">\n",
       "      <th></th>\n",
       "      <th>Id</th>\n",
       "      <th>age</th>\n",
       "      <th>job</th>\n",
       "      <th>marital</th>\n",
       "      <th>education</th>\n",
       "      <th>default</th>\n",
       "      <th>balance</th>\n",
       "      <th>housing</th>\n",
       "      <th>loan</th>\n",
       "      <th>contact</th>\n",
       "      <th>day</th>\n",
       "      <th>month</th>\n",
       "      <th>duration</th>\n",
       "      <th>campaign</th>\n",
       "      <th>pdays</th>\n",
       "      <th>previous</th>\n",
       "      <th>poutcome</th>\n",
       "      <th>y</th>\n",
       "    </tr>\n",
       "  </thead>\n",
       "  <tbody>\n",
       "    <tr>\n",
       "      <th>0</th>\n",
       "      <td>1001</td>\n",
       "      <td>999</td>\n",
       "      <td>management</td>\n",
       "      <td>married</td>\n",
       "      <td>tertiary</td>\n",
       "      <td>no</td>\n",
       "      <td>2143</td>\n",
       "      <td>yes</td>\n",
       "      <td>no</td>\n",
       "      <td>unknown</td>\n",
       "      <td>5</td>\n",
       "      <td>may</td>\n",
       "      <td>261</td>\n",
       "      <td>1</td>\n",
       "      <td>-1</td>\n",
       "      <td>0</td>\n",
       "      <td>unknown</td>\n",
       "      <td>no</td>\n",
       "    </tr>\n",
       "    <tr>\n",
       "      <th>1</th>\n",
       "      <td>1002</td>\n",
       "      <td>44</td>\n",
       "      <td>technician</td>\n",
       "      <td>single</td>\n",
       "      <td>secondary</td>\n",
       "      <td>no</td>\n",
       "      <td>29</td>\n",
       "      <td>yes</td>\n",
       "      <td>no</td>\n",
       "      <td>unknown</td>\n",
       "      <td>5</td>\n",
       "      <td>may</td>\n",
       "      <td>151</td>\n",
       "      <td>1</td>\n",
       "      <td>-1</td>\n",
       "      <td>0</td>\n",
       "      <td>unknown</td>\n",
       "      <td>no</td>\n",
       "    </tr>\n",
       "    <tr>\n",
       "      <th>2</th>\n",
       "      <td>1003</td>\n",
       "      <td>33</td>\n",
       "      <td>entrepreneur</td>\n",
       "      <td>married</td>\n",
       "      <td>secondary</td>\n",
       "      <td>no</td>\n",
       "      <td>2</td>\n",
       "      <td>yes</td>\n",
       "      <td>yes</td>\n",
       "      <td>unknown</td>\n",
       "      <td>5</td>\n",
       "      <td>may</td>\n",
       "      <td>76</td>\n",
       "      <td>1</td>\n",
       "      <td>-1</td>\n",
       "      <td>0</td>\n",
       "      <td>unknown</td>\n",
       "      <td>no</td>\n",
       "    </tr>\n",
       "    <tr>\n",
       "      <th>3</th>\n",
       "      <td>1004</td>\n",
       "      <td>47</td>\n",
       "      <td>blue-collar</td>\n",
       "      <td>married</td>\n",
       "      <td>unknown</td>\n",
       "      <td>no</td>\n",
       "      <td>1506</td>\n",
       "      <td>yes</td>\n",
       "      <td>no</td>\n",
       "      <td>unknown</td>\n",
       "      <td>5</td>\n",
       "      <td>may</td>\n",
       "      <td>92</td>\n",
       "      <td>1</td>\n",
       "      <td>-1</td>\n",
       "      <td>0</td>\n",
       "      <td>unknown</td>\n",
       "      <td>no</td>\n",
       "    </tr>\n",
       "    <tr>\n",
       "      <th>4</th>\n",
       "      <td>1005</td>\n",
       "      <td>33</td>\n",
       "      <td>unknown</td>\n",
       "      <td>single</td>\n",
       "      <td>unknown</td>\n",
       "      <td>no</td>\n",
       "      <td>1</td>\n",
       "      <td>no</td>\n",
       "      <td>no</td>\n",
       "      <td>unknown</td>\n",
       "      <td>5</td>\n",
       "      <td>may</td>\n",
       "      <td>198</td>\n",
       "      <td>1</td>\n",
       "      <td>-1</td>\n",
       "      <td>0</td>\n",
       "      <td>unknown</td>\n",
       "      <td>no</td>\n",
       "    </tr>\n",
       "  </tbody>\n",
       "</table>\n",
       "</div>"
      ],
      "text/plain": [
       "     Id  age           job  marital  education default  balance housing loan  \\\n",
       "0  1001  999    management  married   tertiary      no     2143     yes   no   \n",
       "1  1002   44    technician   single  secondary      no       29     yes   no   \n",
       "2  1003   33  entrepreneur  married  secondary      no        2     yes  yes   \n",
       "3  1004   47   blue-collar  married    unknown      no     1506     yes   no   \n",
       "4  1005   33       unknown   single    unknown      no        1      no   no   \n",
       "\n",
       "   contact  day month  duration  campaign  pdays  previous poutcome   y  \n",
       "0  unknown    5   may       261         1     -1         0  unknown  no  \n",
       "1  unknown    5   may       151         1     -1         0  unknown  no  \n",
       "2  unknown    5   may        76         1     -1         0  unknown  no  \n",
       "3  unknown    5   may        92         1     -1         0  unknown  no  \n",
       "4  unknown    5   may       198         1     -1         0  unknown  no  "
      ]
     },
     "execution_count": 7,
     "metadata": {},
     "output_type": "execute_result"
    }
   ],
   "source": [
    "data=pd.read_csv(\"Assignment-2_Data.csv\")\n",
    "data.head()"
   ]
  },
  {
   "cell_type": "code",
   "execution_count": 8,
   "metadata": {},
   "outputs": [
    {
     "data": {
      "text/html": [
       "<div>\n",
       "<style scoped>\n",
       "    .dataframe tbody tr th:only-of-type {\n",
       "        vertical-align: middle;\n",
       "    }\n",
       "\n",
       "    .dataframe tbody tr th {\n",
       "        vertical-align: top;\n",
       "    }\n",
       "\n",
       "    .dataframe thead th {\n",
       "        text-align: right;\n",
       "    }\n",
       "</style>\n",
       "<table border=\"1\" class=\"dataframe\">\n",
       "  <thead>\n",
       "    <tr style=\"text-align: right;\">\n",
       "      <th></th>\n",
       "      <th>Id</th>\n",
       "      <th>age</th>\n",
       "      <th>balance</th>\n",
       "      <th>day</th>\n",
       "      <th>duration</th>\n",
       "      <th>campaign</th>\n",
       "      <th>pdays</th>\n",
       "      <th>previous</th>\n",
       "    </tr>\n",
       "  </thead>\n",
       "  <tbody>\n",
       "    <tr>\n",
       "      <th>count</th>\n",
       "      <td>45200.000000</td>\n",
       "      <td>45200.000000</td>\n",
       "      <td>45200.000000</td>\n",
       "      <td>45200.000000</td>\n",
       "      <td>45200.000000</td>\n",
       "      <td>45200.000000</td>\n",
       "      <td>45200.000000</td>\n",
       "      <td>45200.000000</td>\n",
       "    </tr>\n",
       "    <tr>\n",
       "      <th>mean</th>\n",
       "      <td>23611.490686</td>\n",
       "      <td>40.954292</td>\n",
       "      <td>1362.565686</td>\n",
       "      <td>15.809049</td>\n",
       "      <td>258.141637</td>\n",
       "      <td>2.764270</td>\n",
       "      <td>40.207854</td>\n",
       "      <td>0.580465</td>\n",
       "    </tr>\n",
       "    <tr>\n",
       "      <th>std</th>\n",
       "      <td>13048.276539</td>\n",
       "      <td>11.539117</td>\n",
       "      <td>3045.076372</td>\n",
       "      <td>8.321781</td>\n",
       "      <td>257.438318</td>\n",
       "      <td>3.098276</td>\n",
       "      <td>100.138866</td>\n",
       "      <td>2.303704</td>\n",
       "    </tr>\n",
       "    <tr>\n",
       "      <th>min</th>\n",
       "      <td>1001.000000</td>\n",
       "      <td>-1.000000</td>\n",
       "      <td>-8019.000000</td>\n",
       "      <td>1.000000</td>\n",
       "      <td>0.000000</td>\n",
       "      <td>1.000000</td>\n",
       "      <td>-1.000000</td>\n",
       "      <td>0.000000</td>\n",
       "    </tr>\n",
       "    <tr>\n",
       "      <th>25%</th>\n",
       "      <td>12311.750000</td>\n",
       "      <td>33.000000</td>\n",
       "      <td>72.000000</td>\n",
       "      <td>8.000000</td>\n",
       "      <td>103.000000</td>\n",
       "      <td>1.000000</td>\n",
       "      <td>-1.000000</td>\n",
       "      <td>0.000000</td>\n",
       "    </tr>\n",
       "    <tr>\n",
       "      <th>50%</th>\n",
       "      <td>23611.500000</td>\n",
       "      <td>39.000000</td>\n",
       "      <td>449.000000</td>\n",
       "      <td>16.000000</td>\n",
       "      <td>180.000000</td>\n",
       "      <td>2.000000</td>\n",
       "      <td>-1.000000</td>\n",
       "      <td>0.000000</td>\n",
       "    </tr>\n",
       "    <tr>\n",
       "      <th>75%</th>\n",
       "      <td>34911.250000</td>\n",
       "      <td>48.000000</td>\n",
       "      <td>1428.000000</td>\n",
       "      <td>21.000000</td>\n",
       "      <td>319.000000</td>\n",
       "      <td>3.000000</td>\n",
       "      <td>-1.000000</td>\n",
       "      <td>0.000000</td>\n",
       "    </tr>\n",
       "    <tr>\n",
       "      <th>max</th>\n",
       "      <td>46211.000000</td>\n",
       "      <td>999.000000</td>\n",
       "      <td>102127.000000</td>\n",
       "      <td>31.000000</td>\n",
       "      <td>4918.000000</td>\n",
       "      <td>63.000000</td>\n",
       "      <td>871.000000</td>\n",
       "      <td>275.000000</td>\n",
       "    </tr>\n",
       "  </tbody>\n",
       "</table>\n",
       "</div>"
      ],
      "text/plain": [
       "                 Id           age        balance           day      duration  \\\n",
       "count  45200.000000  45200.000000   45200.000000  45200.000000  45200.000000   \n",
       "mean   23611.490686     40.954292    1362.565686     15.809049    258.141637   \n",
       "std    13048.276539     11.539117    3045.076372      8.321781    257.438318   \n",
       "min     1001.000000     -1.000000   -8019.000000      1.000000      0.000000   \n",
       "25%    12311.750000     33.000000      72.000000      8.000000    103.000000   \n",
       "50%    23611.500000     39.000000     449.000000     16.000000    180.000000   \n",
       "75%    34911.250000     48.000000    1428.000000     21.000000    319.000000   \n",
       "max    46211.000000    999.000000  102127.000000     31.000000   4918.000000   \n",
       "\n",
       "           campaign         pdays      previous  \n",
       "count  45200.000000  45200.000000  45200.000000  \n",
       "mean       2.764270     40.207854      0.580465  \n",
       "std        3.098276    100.138866      2.303704  \n",
       "min        1.000000     -1.000000      0.000000  \n",
       "25%        1.000000     -1.000000      0.000000  \n",
       "50%        2.000000     -1.000000      0.000000  \n",
       "75%        3.000000     -1.000000      0.000000  \n",
       "max       63.000000    871.000000    275.000000  "
      ]
     },
     "execution_count": 8,
     "metadata": {},
     "output_type": "execute_result"
    }
   ],
   "source": [
    "data.describe()"
   ]
  },
  {
   "cell_type": "code",
   "execution_count": 9,
   "metadata": {},
   "outputs": [
    {
     "name": "stdout",
     "output_type": "stream",
     "text": [
      "<class 'pandas.core.frame.DataFrame'>\n",
      "RangeIndex: 45200 entries, 0 to 45199\n",
      "Data columns (total 18 columns):\n",
      " #   Column     Non-Null Count  Dtype \n",
      "---  ------     --------------  ----- \n",
      " 0   Id         45200 non-null  int64 \n",
      " 1   age        45200 non-null  int64 \n",
      " 2   job        45200 non-null  object\n",
      " 3   marital    45200 non-null  object\n",
      " 4   education  45200 non-null  object\n",
      " 5   default    45200 non-null  object\n",
      " 6   balance    45200 non-null  int64 \n",
      " 7   housing    45200 non-null  object\n",
      " 8   loan       45200 non-null  object\n",
      " 9   contact    45200 non-null  object\n",
      " 10  day        45200 non-null  int64 \n",
      " 11  month      45200 non-null  object\n",
      " 12  duration   45200 non-null  int64 \n",
      " 13  campaign   45200 non-null  int64 \n",
      " 14  pdays      45200 non-null  int64 \n",
      " 15  previous   45200 non-null  int64 \n",
      " 16  poutcome   45200 non-null  object\n",
      " 17  y          45200 non-null  object\n",
      "dtypes: int64(8), object(10)\n",
      "memory usage: 6.2+ MB\n"
     ]
    }
   ],
   "source": [
    "data.info ()"
   ]
  },
  {
   "cell_type": "code",
   "execution_count": 10,
   "metadata": {},
   "outputs": [
    {
     "data": {
      "text/plain": [
       "Id           0\n",
       "age          0\n",
       "job          0\n",
       "marital      0\n",
       "education    0\n",
       "default      0\n",
       "balance      0\n",
       "housing      0\n",
       "loan         0\n",
       "contact      0\n",
       "day          0\n",
       "month        0\n",
       "duration     0\n",
       "campaign     0\n",
       "pdays        0\n",
       "previous     0\n",
       "poutcome     0\n",
       "y            0\n",
       "dtype: int64"
      ]
     },
     "execution_count": 10,
     "metadata": {},
     "output_type": "execute_result"
    }
   ],
   "source": [
    "data.isnull().sum()"
   ]
  },
  {
   "cell_type": "code",
   "execution_count": 11,
   "metadata": {},
   "outputs": [],
   "source": [
    "from sklearn.preprocessing import LabelEncoder"
   ]
  },
  {
   "cell_type": "code",
   "execution_count": 12,
   "metadata": {},
   "outputs": [
    {
     "data": {
      "text/plain": [
       "{0: 'admin.',\n",
       " 1: 'blue-collar',\n",
       " 2: 'entrepreneur',\n",
       " 3: 'housemaid',\n",
       " 4: 'management',\n",
       " 5: 'retired',\n",
       " 6: 'self-employed',\n",
       " 7: 'services',\n",
       " 8: 'student',\n",
       " 9: 'technician',\n",
       " 10: 'unemployed',\n",
       " 11: 'unknown'}"
      ]
     },
     "execution_count": 12,
     "metadata": {},
     "output_type": "execute_result"
    }
   ],
   "source": [
    "encoder = LabelEncoder()\n",
    "data['job'] = encoder.fit_transform(data['job'])\n",
    "job = {index : label for index, label in enumerate(encoder.classes_)}\n",
    "job"
   ]
  },
  {
   "cell_type": "code",
   "execution_count": 13,
   "metadata": {},
   "outputs": [
    {
     "data": {
      "text/plain": [
       "{0: 'divorced', 1: 'married', 2: 'single'}"
      ]
     },
     "execution_count": 13,
     "metadata": {},
     "output_type": "execute_result"
    }
   ],
   "source": [
    "data['marital'] = encoder.fit_transform(data['marital'])\n",
    "marital = {index : label for index, label in enumerate(encoder.classes_)}\n",
    "marital"
   ]
  },
  {
   "cell_type": "code",
   "execution_count": 14,
   "metadata": {},
   "outputs": [
    {
     "data": {
      "text/plain": [
       "{0: 'primary', 1: 'secondary', 2: 'tertiary', 3: 'unknown'}"
      ]
     },
     "execution_count": 14,
     "metadata": {},
     "output_type": "execute_result"
    }
   ],
   "source": [
    "data['education'] = encoder.fit_transform(data['education'])\n",
    "education = {index : label for index, label in enumerate(encoder.classes_)}\n",
    "education"
   ]
  },
  {
   "cell_type": "code",
   "execution_count": 15,
   "metadata": {},
   "outputs": [
    {
     "data": {
      "text/plain": [
       "{0: 'no', 1: 'yes'}"
      ]
     },
     "execution_count": 15,
     "metadata": {},
     "output_type": "execute_result"
    }
   ],
   "source": [
    "data['default'] = encoder.fit_transform(data['default'])\n",
    "default = {index : label for index, label in enumerate(encoder.classes_)}\n",
    "default"
   ]
  },
  {
   "cell_type": "code",
   "execution_count": 16,
   "metadata": {},
   "outputs": [
    {
     "data": {
      "text/plain": [
       "{0: 'no', 1: 'yes'}"
      ]
     },
     "execution_count": 16,
     "metadata": {},
     "output_type": "execute_result"
    }
   ],
   "source": [
    "data['loan'] = encoder.fit_transform(data['loan'])\n",
    "loan = {index : label for index, label in enumerate(encoder.classes_)}\n",
    "loan"
   ]
  },
  {
   "cell_type": "code",
   "execution_count": 17,
   "metadata": {},
   "outputs": [
    {
     "data": {
      "text/plain": [
       "{0: 'cellular', 1: 'telephone', 2: 'unknown'}"
      ]
     },
     "execution_count": 17,
     "metadata": {},
     "output_type": "execute_result"
    }
   ],
   "source": [
    "data['contact'] = encoder.fit_transform(data['contact'])\n",
    "contact = {index : label for index, label in enumerate(encoder.classes_)}\n",
    "contact"
   ]
  },
  {
   "cell_type": "code",
   "execution_count": 18,
   "metadata": {},
   "outputs": [
    {
     "data": {
      "text/plain": [
       "{0: 'apr',\n",
       " 1: 'aug',\n",
       " 2: 'dec',\n",
       " 3: 'feb',\n",
       " 4: 'jan',\n",
       " 5: 'jul',\n",
       " 6: 'jun',\n",
       " 7: 'mar',\n",
       " 8: 'may',\n",
       " 9: 'nov',\n",
       " 10: 'oct',\n",
       " 11: 'sep'}"
      ]
     },
     "execution_count": 18,
     "metadata": {},
     "output_type": "execute_result"
    }
   ],
   "source": [
    "data['month'] = encoder.fit_transform(data['month'])\n",
    "month = {index : label for index, label in enumerate(encoder.classes_)}\n",
    "month"
   ]
  },
  {
   "cell_type": "code",
   "execution_count": 19,
   "metadata": {},
   "outputs": [
    {
     "data": {
      "text/plain": [
       "{0: 'failure', 1: 'other', 2: 'success', 3: 'unknown'}"
      ]
     },
     "execution_count": 19,
     "metadata": {},
     "output_type": "execute_result"
    }
   ],
   "source": [
    "data['poutcome'] = encoder.fit_transform(data['poutcome'])\n",
    "poutcome = {index : label for index, label in enumerate(encoder.classes_)}\n",
    "poutcome"
   ]
  },
  {
   "cell_type": "code",
   "execution_count": 23,
   "metadata": {},
   "outputs": [
    {
     "data": {
      "text/plain": [
       "{0: 'no', 1: 'yes'}"
      ]
     },
     "execution_count": 23,
     "metadata": {},
     "output_type": "execute_result"
    }
   ],
   "source": [
    "data['housing'] = encoder.fit_transform(data['housing'])\n",
    "housing = {index : label for index, label in enumerate(encoder.classes_)}\n",
    "housing"
   ]
  },
  {
   "cell_type": "code",
   "execution_count": 24,
   "metadata": {},
   "outputs": [],
   "source": [
    "x = data.drop('y', axis=1)\n",
    "y = data['y']"
   ]
  },
  {
   "cell_type": "code",
   "execution_count": 25,
   "metadata": {},
   "outputs": [],
   "source": [
    "from sklearn.preprocessing import MinMaxScaler"
   ]
  },
  {
   "cell_type": "code",
   "execution_count": 26,
   "metadata": {},
   "outputs": [
    {
     "name": "stdout",
     "output_type": "stream",
     "text": [
      "x \n",
      " [[0.00000000e+00 1.00000000e+00 3.63636364e-01 5.00000000e-01\n",
      "  6.66666667e-01 0.00000000e+00 9.22593648e-02 1.00000000e+00\n",
      "  0.00000000e+00 1.00000000e+00 1.33333333e-01 7.27272727e-01\n",
      "  5.30703538e-02 0.00000000e+00 0.00000000e+00 0.00000000e+00\n",
      "  1.00000000e+00]\n",
      " [2.21190002e-05 4.50000000e-02 8.18181818e-01 1.00000000e+00\n",
      "  3.33333333e-01 0.00000000e+00 7.30666570e-02 1.00000000e+00\n",
      "  0.00000000e+00 1.00000000e+00 1.33333333e-01 7.27272727e-01\n",
      "  3.07035380e-02 0.00000000e+00 0.00000000e+00 0.00000000e+00\n",
      "  1.00000000e+00]\n",
      " [4.42380004e-05 3.40000000e-02 1.81818182e-01 5.00000000e-01\n",
      "  3.33333333e-01 0.00000000e+00 7.28215278e-02 1.00000000e+00\n",
      "  1.00000000e+00 1.00000000e+00 1.33333333e-01 7.27272727e-01\n",
      "  1.54534364e-02 0.00000000e+00 0.00000000e+00 0.00000000e+00\n",
      "  1.00000000e+00]\n",
      " [6.63570007e-05 4.80000000e-02 9.09090909e-02 5.00000000e-01\n",
      "  1.00000000e+00 0.00000000e+00 8.64761317e-02 1.00000000e+00\n",
      "  0.00000000e+00 1.00000000e+00 1.33333333e-01 7.27272727e-01\n",
      "  1.87067914e-02 0.00000000e+00 0.00000000e+00 0.00000000e+00\n",
      "  1.00000000e+00]\n",
      " [8.84760009e-05 3.40000000e-02 1.00000000e+00 1.00000000e+00\n",
      "  1.00000000e+00 0.00000000e+00 7.28124489e-02 0.00000000e+00\n",
      "  0.00000000e+00 1.00000000e+00 1.33333333e-01 7.27272727e-01\n",
      "  4.02602684e-02 0.00000000e+00 0.00000000e+00 0.00000000e+00\n",
      "  1.00000000e+00]\n",
      " [1.10595001e-04 3.60000000e-02 3.63636364e-01 5.00000000e-01\n",
      "  6.66666667e-01 0.00000000e+00 7.49005865e-02 1.00000000e+00\n",
      "  0.00000000e+00 1.00000000e+00 1.33333333e-01 7.27272727e-01\n",
      "  2.82635218e-02 0.00000000e+00 0.00000000e+00 0.00000000e+00\n",
      "  1.00000000e+00]\n",
      " [1.32714001e-04 2.90000000e-02 3.63636364e-01 1.00000000e+00\n",
      "  6.66666667e-01 0.00000000e+00 7.68616200e-02 1.00000000e+00\n",
      "  1.00000000e+00 1.00000000e+00 1.33333333e-01 7.27272727e-01\n",
      "  4.41236275e-02 0.00000000e+00 0.00000000e+00 0.00000000e+00\n",
      "  1.00000000e+00]\n",
      " [2.21190002e-04 4.20000000e-02 0.00000000e+00 0.00000000e+00\n",
      "  3.33333333e-01 0.00000000e+00 7.52546620e-02 1.00000000e+00\n",
      "  0.00000000e+00 1.00000000e+00 1.33333333e-01 7.27272727e-01\n",
      "  4.51403009e-02 0.00000000e+00 0.00000000e+00 0.00000000e+00\n",
      "  1.00000000e+00]\n",
      " [2.43309002e-04 3.00000000e-02 0.00000000e+00 1.00000000e+00\n",
      "  3.33333333e-01 0.00000000e+00 7.63441251e-02 1.00000000e+00\n",
      "  0.00000000e+00 1.00000000e+00 1.33333333e-01 7.27272727e-01\n",
      "  2.78568524e-02 0.00000000e+00 0.00000000e+00 0.00000000e+00\n",
      "  1.00000000e+00]\n",
      " [2.65428003e-04 5.40000000e-02 8.18181818e-01 5.00000000e-01\n",
      "  3.33333333e-01 0.00000000e+00 7.28578432e-02 1.00000000e+00\n",
      "  0.00000000e+00 1.00000000e+00 1.33333333e-01 7.27272727e-01\n",
      "  1.05124034e-01 0.00000000e+00 0.00000000e+00 0.00000000e+00\n",
      "  1.00000000e+00]]\n",
      "y \n",
      " 0    no\n",
      "1    no\n",
      "2    no\n",
      "3    no\n",
      "4    no\n",
      "5    no\n",
      "6    no\n",
      "7    no\n",
      "8    no\n",
      "9    no\n",
      "Name: y, dtype: object\n"
     ]
    }
   ],
   "source": [
    "scaler = MinMaxScaler(copy=True, feature_range=(0, 1))\n",
    "X = scaler.fit_transform(x)\n",
    "\n",
    "#showing data\n",
    "print('x \\n' , X[:10])\n",
    "print('y \\n' , y[:10])"
   ]
  },
  {
   "cell_type": "code",
   "execution_count": 27,
   "metadata": {},
   "outputs": [],
   "source": [
    "from sklearn.model_selection import train_test_split"
   ]
  },
  {
   "cell_type": "code",
   "execution_count": 28,
   "metadata": {},
   "outputs": [],
   "source": [
    "x_train,x_test,y_train,y_test=train_test_split(x,y,test_size=33,random_state=0)"
   ]
  },
  {
   "cell_type": "code",
   "execution_count": 29,
   "metadata": {},
   "outputs": [
    {
     "name": "stdout",
     "output_type": "stream",
     "text": [
      "x_train shape is (45167, 17)\n"
     ]
    }
   ],
   "source": [
    "print(\"x_train shape is\",x_train.shape)"
   ]
  },
  {
   "cell_type": "code",
   "execution_count": 30,
   "metadata": {},
   "outputs": [
    {
     "name": "stdout",
     "output_type": "stream",
     "text": [
      "y_train shape is (45167,)\n"
     ]
    }
   ],
   "source": [
    "print(\"y_train shape is\",y_train.shape)"
   ]
  },
  {
   "cell_type": "code",
   "execution_count": 31,
   "metadata": {},
   "outputs": [
    {
     "name": "stdout",
     "output_type": "stream",
     "text": [
      "x_test shape is  (33, 17)\n"
     ]
    }
   ],
   "source": [
    "print(\"x_test shape is \",x_test.shape)"
   ]
  },
  {
   "cell_type": "code",
   "execution_count": 32,
   "metadata": {},
   "outputs": [
    {
     "name": "stdout",
     "output_type": "stream",
     "text": [
      "y_test shape is (33,)\n"
     ]
    }
   ],
   "source": [
    "print(\"y_test shape is\",y_test.shape)"
   ]
  },
  {
   "cell_type": "code",
   "execution_count": 33,
   "metadata": {},
   "outputs": [],
   "source": [
    "from sklearn.ensemble import RandomForestClassifier\n",
    "from sklearn.tree import DecisionTreeClassifier"
   ]
  },
  {
   "cell_type": "code",
   "execution_count": 34,
   "metadata": {},
   "outputs": [
    {
     "name": "stdout",
     "output_type": "stream",
     "text": [
      "RandomForestClassifierModel Train Score is :  0.8829455133172449\n",
      "RandomForestClassifierModel Test Score is :  0.9393939393939394\n",
      "RandomForestClassifierModel features importances are :  [0.30444593 0.04929669 0.00061094 0.00116211 0.00259447 0.\n",
      " 0.00322855 0.0305198  0.         0.02793829 0.00139184 0.13057013\n",
      " 0.28428464 0.00130769 0.07561975 0.0343466  0.05268257]\n",
      "----------------------------------------------------\n",
      "Predicted Value for RandomForestClassifierModel is :  ['no' 'no' 'no' 'no' 'no' 'no' 'no' 'no' 'no' 'no']\n",
      "Prediction Probabilities Value for RandomForestClassifierModel is :  [[0.92710844 0.07289156]\n",
      " [0.92147785 0.07852215]\n",
      " [0.79499704 0.20500296]\n",
      " [0.9289793  0.0710207 ]\n",
      " [0.92773932 0.07226068]\n",
      " [0.68045216 0.31954784]\n",
      " [0.89231196 0.10768804]\n",
      " [0.88812128 0.11187872]\n",
      " [0.928492   0.071508  ]\n",
      " [0.71924019 0.28075981]]\n"
     ]
    }
   ],
   "source": [
    "RandomForestClassifierModel = RandomForestClassifier(criterion = 'gini',n_estimators=100,max_depth=2,random_state=33) #criterion can be also : entropy \n",
    "RandomForestClassifierModel.fit(x_train, y_train)\n",
    "\n",
    "#Calculating Details\n",
    "print('RandomForestClassifierModel Train Score is : ' , RandomForestClassifierModel.score(x_train, y_train))\n",
    "print('RandomForestClassifierModel Test Score is : ' , RandomForestClassifierModel.score(x_test, y_test))\n",
    "print('RandomForestClassifierModel features importances are : ' , RandomForestClassifierModel.feature_importances_)\n",
    "print('----------------------------------------------------')\n",
    "\n",
    "#Calculating Prediction\n",
    "y_pred = RandomForestClassifierModel.predict(x_test)\n",
    "y_pred_prob = RandomForestClassifierModel.predict_proba(x_test)\n",
    "print('Predicted Value for RandomForestClassifierModel is : ' , y_pred[:10])\n",
    "print('Prediction Probabilities Value for RandomForestClassifierModel is : ' , y_pred_prob[:10])\n"
   ]
  },
  {
   "cell_type": "code",
   "execution_count": 39,
   "metadata": {},
   "outputs": [
    {
     "name": "stdout",
     "output_type": "stream",
     "text": [
      "DecisionTreeClassifierModel Train Score is :  0.8829455133172449\n",
      "DecisionTreeClassifierModel Test Score is :  0.9393939393939394\n",
      "DecisionTreeClassifierModel Classes are :  ['no' 'yes']\n",
      "DecisionTreeClassifierModel feature importances are :  [1. 0. 0. 0. 0. 0. 0. 0. 0. 0. 0. 0. 0. 0. 0. 0. 0.]\n",
      "----------------------------------------------------\n",
      "Predicted Value for DecisionTreeClassifierModel is :  ['no' 'no' 'no' 'no' 'no' 'no' 'no' 'no' 'no' 'no']\n",
      "Prediction Probabilities Value for DecisionTreeClassifierModel is :  [[0.92944021 0.07055979]\n",
      " [0.92944021 0.07055979]\n",
      " [0.54453812 0.45546188]\n",
      " [0.92944021 0.07055979]\n",
      " [0.92944021 0.07055979]\n",
      " [0.92944021 0.07055979]\n",
      " [0.92944021 0.07055979]\n",
      " [0.92944021 0.07055979]\n",
      " [0.92944021 0.07055979]\n",
      " [0.54453812 0.45546188]]\n"
     ]
    }
   ],
   "source": [
    "DecisionTreeClassifierModel = DecisionTreeClassifier(criterion='gini',max_depth=1,random_state=33) #criterion can be entropy\n",
    "DecisionTreeClassifierModel.fit(x_train, y_train)\n",
    "\n",
    "#Calculating Details\n",
    "print('DecisionTreeClassifierModel Train Score is : ' , DecisionTreeClassifierModel.score(x_train, y_train))\n",
    "print('DecisionTreeClassifierModel Test Score is : ' , DecisionTreeClassifierModel.score(x_test, y_test))\n",
    "print('DecisionTreeClassifierModel Classes are : ' , DecisionTreeClassifierModel.classes_)\n",
    "print('DecisionTreeClassifierModel feature importances are : ' , DecisionTreeClassifierModel.feature_importances_)\n",
    "print('----------------------------------------------------')\n",
    "\n",
    "#Calculating Prediction\n",
    "y_pred = DecisionTreeClassifierModel.predict(x_test)\n",
    "y_pred_prob = DecisionTreeClassifierModel.predict_proba(x_test)\n",
    "print('Predicted Value for DecisionTreeClassifierModel is : ' , y_pred[:10])\n",
    "print('Prediction Probabilities Value for DecisionTreeClassifierModel is : ' , y_pred_prob[:10])"
   ]
  },
  {
   "cell_type": "code",
   "execution_count": 46,
   "metadata": {},
   "outputs": [],
   "source": [
    "from sklearn.metrics import f1_score\n",
    "from sklearn.metrics import precision_score"
   ]
  },
  {
   "cell_type": "code",
   "execution_count": 47,
   "metadata": {},
   "outputs": [
    {
     "name": "stdout",
     "output_type": "stream",
     "text": [
      "F1 Score is :  0.8787878787878788\n"
     ]
    }
   ],
   "source": [
    "F1Score = f1_score(y_test, y_pred, average='micro') #it can be : binary,macro,weighted,samples\n",
    "print('F1 Score is : ', F1Score)"
   ]
  },
  {
   "cell_type": "code",
   "execution_count": 48,
   "metadata": {},
   "outputs": [
    {
     "name": "stdout",
     "output_type": "stream",
     "text": [
      "Precision Score is :  0.8787878787878788\n"
     ]
    }
   ],
   "source": [
    "PrecisionScore = precision_score(y_test, y_pred, average='micro') #it can be : binary,macro,weighted,samples\n",
    "print('Precision Score is : ', PrecisionScore)"
   ]
  },
  {
   "cell_type": "code",
   "execution_count": null,
   "metadata": {},
   "outputs": [],
   "source": []
  }
 ],
 "metadata": {
  "kernelspec": {
   "display_name": "Python 3",
   "language": "python",
   "name": "python3"
  },
  "language_info": {
   "codemirror_mode": {
    "name": "ipython",
    "version": 3
   },
   "file_extension": ".py",
   "mimetype": "text/x-python",
   "name": "python",
   "nbconvert_exporter": "python",
   "pygments_lexer": "ipython3",
   "version": "3.8.5"
  }
 },
 "nbformat": 4,
 "nbformat_minor": 4
}
